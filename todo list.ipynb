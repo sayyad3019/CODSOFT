{
 "cells": [
  {
   "cell_type": "code",
   "execution_count": 1,
   "id": "032eccf6",
   "metadata": {},
   "outputs": [],
   "source": [
    "#importing packages \n",
    "from  tkinter import * \n",
    "import tkinter.messagebox"
   ]
  },
  {
   "cell_type": "code",
   "execution_count": 3,
   "id": "c9358285",
   "metadata": {},
   "outputs": [],
   "source": [
    "def entertask():\n",
    "    #A new window to pop up to take input\n",
    "    input_text=\"\"\n",
    "    def add():\n",
    "        input_text=entry_task.get(1.0, \"end-1c\")\n",
    "        if input_text==\"\":\n",
    "            tkinter.messagebox.showwarning(title=\"Warning!\",message=\"Please Enter some Text\")\n",
    "        else:\n",
    "            listbox_task.insert(END,input_text)\n",
    "            root1.destroy()\n",
    "    root1=Tk()\n",
    "    root1.title(\"Add task\")\n",
    "    entry_task=Text(root1,width=20,height=2)\n",
    "    entry_task.pack()\n",
    "    button_temp=Button(root1,text=\"Add task\",command=add)\n",
    "    button_temp.pack()\n",
    "    root1.mainloop()\n",
    "    \n",
    "\n",
    "#function to facilitate the delete task from the Listbox\n",
    "def deletetask():\n",
    "    selected=listbox_task.curselection()\n",
    "    listbox_task.delete(selected[0])\n",
    "\n",
    "def markcompleted():\n",
    "    marked=listbox_task.curselection()\n",
    "    temp=marked[0]\n",
    "    #store the text of selected item in a string\n",
    "    temp_marked=listbox_task.get(marked)\n",
    "    #update it \n",
    "    temp_marked=temp_marked+\" ✔\"\n",
    "    #delete it then insert it \n",
    "    listbox_task.delete(temp)\n",
    "    listbox_task.insert(temp,temp_marked)"
   ]
  },
  {
   "cell_type": "code",
   "execution_count": 8,
   "id": "c83e0754",
   "metadata": {},
   "outputs": [],
   "source": [
    "#creating an initial window\n",
    "window=Tk()\n",
    "#giving a title\n",
    "window.title(\"To-Do List Application\")\n",
    "\n",
    "\n",
    "#Frame widget to hold the listbox and the scrollbar\n",
    "frame_task=Frame(window)\n",
    "frame_task.pack()\n",
    "\n",
    "#to hold items in a listbox\n",
    "listbox_task=Listbox(frame_task,bg=\"white\",fg=\"black\",height=8,width=30,font = \"Helvetica\")  \n",
    "listbox_task.pack(side=tkinter.LEFT)\n",
    "\n",
    "\n",
    "#Button widget \n",
    "entry_button=Button(window,text=\"Add task\",width=50,command=entertask)\n",
    "entry_button.pack(pady=3)\n",
    "\n",
    "delete_button=Button(window,text=\"Delete selected task\",width=50,command=deletetask)\n",
    "delete_button.pack(pady=3)\n",
    "\n",
    "mark_button=Button(window,text=\"Mark as completed \",width=50,command=markcompleted)\n",
    "mark_button.pack(pady=3)\n",
    "\n",
    "\n",
    "window.mainloop()"
   ]
  },
  {
   "cell_type": "code",
   "execution_count": null,
   "id": "89d43c73",
   "metadata": {},
   "outputs": [],
   "source": []
  }
 ],
 "metadata": {
  "kernelspec": {
   "display_name": "Python 3 (ipykernel)",
   "language": "python",
   "name": "python3"
  },
  "language_info": {
   "codemirror_mode": {
    "name": "ipython",
    "version": 3
   },
   "file_extension": ".py",
   "mimetype": "text/x-python",
   "name": "python",
   "nbconvert_exporter": "python",
   "pygments_lexer": "ipython3",
   "version": "3.10.9"
  }
 },
 "nbformat": 4,
 "nbformat_minor": 5
}
