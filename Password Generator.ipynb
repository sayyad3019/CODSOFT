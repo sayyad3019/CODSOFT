{
 "cells": [
  {
   "cell_type": "code",
   "execution_count": 1,
   "id": "d58a0e21",
   "metadata": {},
   "outputs": [],
   "source": [
    "# importing packages\n",
    "from tkinter import *\n",
    "import pyperclip\n",
    "import random\n",
    "\n",
    "# initializing the tkinter\n",
    "root = Tk()\n",
    "root.geometry(\"400x400\")   \n",
    "passstr = StringVar()\n",
    "passlen = IntVar()\n",
    "passlen.set(0)\n",
    "\n",
    "\n",
    "# function to generate the password\n",
    "def generate():\n",
    "    # storing the keys in a list which will be used to generate \n",
    "    # the password \n",
    "    pass1 = ['a', 'b', 'c', 'd', 'e', 'f', 'g', 'h', 'i', 'j',\n",
    "            'k', 'l', 'm', 'n', 'o', 'p', 'q', 'r', 's', 't', \n",
    "            'u', 'v', 'w', 'x', 'y', 'z', 'A', 'B', 'C', 'D',\n",
    "            'E', 'F', 'G', 'H', 'I', 'J', 'K', 'L', 'M', 'N',\n",
    "            'O', 'P', 'Q', 'R', 'S', 'T', 'U', 'V', 'W', 'X', \n",
    "            'Y', 'Z', '1', '2', '3', '4', '5', '6', '7', '8', \n",
    "            '9', '0', ' ', '!', '@', '#', '$', '%', '^', '&', \n",
    "            '*', '(', ')']\n",
    "\n",
    "    # declaring the empty string\n",
    "    password = \"\"\n",
    "\n",
    "    # loop to generate the random password of the length entered           \n",
    "    # by the user\n",
    "    for x in range(passlen.get()):\n",
    "        password = password + random.choice(pass1)\n",
    "\n",
    "    # setting the password to the entry widget\n",
    "    passstr.set(password)\n",
    "\n",
    "# function to copy the password to the clipboard\n",
    "def copytoclipboard():\n",
    "    random_password = passstr.get()\n",
    "    pyperclip.copy(random_password)\n",
    "\n",
    "Label(root, text=\"Password Generator\", font=\"calibri 20 bold\").pack()\n",
    "\n",
    "Label(root, text=\"Enter password length\").pack(pady=3)\n",
    "\n",
    "Entry(root, textvariable=passlen).pack(pady=3)\n",
    "\n",
    "# button to call the generate function\n",
    "Button(root, text=\"Generate Password\", command=generate).pack(pady=7)\n",
    "\n",
    "# entry widget to show the generated password\n",
    "Entry(root, textvariable=passstr).pack(pady=3)\n",
    "\n",
    "# button to call the copytoclipboard function\n",
    "Button(root, text=\"Copy to clipboard\", command=copytoclipboard).pack() \n",
    "root.mainloop()"
   ]
  },
  {
   "cell_type": "code",
   "execution_count": null,
   "id": "aac7511a",
   "metadata": {},
   "outputs": [],
   "source": []
  }
 ],
 "metadata": {
  "kernelspec": {
   "display_name": "Python 3 (ipykernel)",
   "language": "python",
   "name": "python3"
  },
  "language_info": {
   "codemirror_mode": {
    "name": "ipython",
    "version": 3
   },
   "file_extension": ".py",
   "mimetype": "text/x-python",
   "name": "python",
   "nbconvert_exporter": "python",
   "pygments_lexer": "ipython3",
   "version": "3.10.9"
  }
 },
 "nbformat": 4,
 "nbformat_minor": 5
}
